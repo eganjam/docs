{
  "nbformat": 4,
  "nbformat_minor": 0,
  "metadata": {
    "colab": {
      "name": "feature_cols_keras.ipynb",
      "version": "0.3.2",
      "provenance": [],
      "collapsed_sections": []
    },
    "kernelspec": {
      "name": "python3",
      "display_name": "Python 3"
    }
  },
  "cells": [
    {
      "metadata": {
        "id": "NWzW68_Q9AgO",
        "colab_type": "text"
      },
      "cell_type": "markdown",
      "source": [
        "TODO: \n",
        "* Switch datasets (goodbye Census)"
      ]
    },
    {
      "metadata": {
        "id": "aM34O5hboLM9",
        "colab_type": "text"
      },
      "cell_type": "markdown",
      "source": [
        "##### Copyright 2018 The TensorFlow Authors."
      ]
    },
    {
      "metadata": {
        "id": "IM4nFr3GewTr",
        "colab_type": "text"
      },
      "cell_type": "markdown",
      "source": [
        "# Classify structured data using feature columns"
      ]
    },
    {
      "metadata": {
        "id": "e8ywE5KgoJiW",
        "colab_type": "text"
      },
      "cell_type": "markdown",
      "source": [
        "\n",
        "<table class=\"tfo-notebook-buttons\" align=\"left\">\n",
        "  <td>\n",
        "    <a target=\"_blank\" href=\"https://www.tensorflow.org/tutorials/estimators/linear\"><img src=\"https://www.tensorflow.org/images/tf_logo_32px.png\" />View on TensorFlow.org</a>\n",
        "  </td>\n",
        "  <td>\n",
        "    <a target=\"_blank\" href=\"https://colab.research.google.com/github/tensorflow/docs/blob/master/site/en/tutorials/structured_data/feature_cols_keras.ipynb\"><img src=\"https://www.tensorflow.org/images/colab_logo_32px.png\" />Run in Google Colab</a>\n",
        "  </td>\n",
        "  <td>\n",
        "    <a target=\"_blank\" href=\"https://github.com/tensorflow/docs/blob/master/site/en/tutorials/structured_data/feature_cols_keras.ipynb\"><img src=\"https://www.tensorflow.org/images/GitHub-Mark-32px.png\" />View source on GitHub</a>\n",
        "  </td>\n",
        "</table>"
      ]
    },
    {
      "metadata": {
        "id": "3iJ4CVgqoHPt",
        "colab_type": "text"
      },
      "cell_type": "markdown",
      "source": [
        "This tutorial demonstrates how to classify structured data. We will use [tf.keras](https://www.tensorflow.org/guide/keras) to define our model, and [feature columns](https://www.tensorflow.org/guide/feature_columns) to describe how the data should be represented.\n",
        "\n",
        "## Overview\n",
        "\n",
        "Using [census data](https://archive.ics.uci.edu/ml/datasets/Census+Income) which contains data a person's age, education, marital status, and occupation (the *features*), we will try to predict whether or not the person earns more than 50,000 dollars a year (the target *label*). \n",
        "\n",
        "We will train a neural network that, given an individual's information, outputs a number between 0 and 1. This can be interpreted as the probability that the individual has an annual income of over 50,000 dollars.\n",
        "\n",
        "Key Point: As a modeler and developer, think about how this data is used and the potential benefits and harm a model's predictions can cause. A model built on a dataset like this could reinforce societal biases and disparities. Is each  feature relevant to the problem you want to solve or will it introduce bias? For more information, read about [ML fairness](https://developers.google.com/machine-learning/fairness-overview/)."
      ]
    },
    {
      "metadata": {
        "id": "A8jDSKpbqkNt",
        "colab_type": "text"
      },
      "cell_type": "markdown",
      "source": [
        "## Setup\n",
        "\n",
        "Import TensorFlow, feature columns, and supporting libraries."
      ]
    },
    {
      "metadata": {
        "id": "d9fF6-a8gHo8",
        "colab_type": "code",
        "colab": {}
      },
      "cell_type": "code",
      "source": [
        "import pandas as pd\n",
        "import tensorflow as tf\n",
        "\n",
        "from sklearn.model_selection import train_test_split\n",
        "from tensorflow.python.feature_column import feature_column_v2 as fc"
      ],
      "execution_count": 0,
      "outputs": []
    },
    {
      "metadata": {
        "id": "JbvOQiBfqvMy",
        "colab_type": "text"
      },
      "cell_type": "markdown",
      "source": [
        "Let's enable eager execution for easier debugging. As of TensorFlow v2.0 (coming in 2019), this will be enabled by default."
      ]
    },
    {
      "metadata": {
        "id": "0KxgHvyfgT7E",
        "colab_type": "code",
        "colab": {}
      },
      "cell_type": "code",
      "source": [
        "tf.enable_eager_execution()"
      ],
      "execution_count": 0,
      "outputs": []
    },
    {
      "metadata": {
        "id": "ts8nmPzTrLGq",
        "colab_type": "text"
      },
      "cell_type": "markdown",
      "source": [
        "## Download the Census dataset\n",
        "\n",
        "We will use a version of this dataset that has been lightly preprocessed for consistent formatting, in order to minimize the preprocessing code in this tutorial."
      ]
    },
    {
      "metadata": {
        "id": "DeqLNdQKgWIj",
        "colab_type": "code",
        "colab": {}
      },
      "cell_type": "code",
      "source": [
        "URL = 'https://storage.googleapis.com/applied-dl/uci_census_cleaned.csv'\n",
        "data = tf.keras.utils.get_file('uci_census_cleaned.csv', URL)"
      ],
      "execution_count": 0,
      "outputs": []
    },
    {
      "metadata": {
        "id": "bDmhOJwSr7_E",
        "colab_type": "text"
      },
      "cell_type": "markdown",
      "source": [
        "## Use Pandas to load and preprocess the data\n",
        "\n",
        "[Pandas](https://pandas.pydata.org/) is an open-source Python library with many helpful utilities for loading and working with structured data. We will use Pandas in this tutorial to load and to prepreprocess the cenus dataset before classifying it with TensorFlow."
      ]
    },
    {
      "metadata": {
        "id": "vk-QkPqmqciR",
        "colab_type": "code",
        "outputId": "049130a4-62d5-4e93-a86b-22a19f268194",
        "colab": {
          "base_uri": "https://localhost:8080/",
          "height": 292
        }
      },
      "cell_type": "code",
      "source": [
        "dataframe = pd.read_csv('~/.keras/datasets/uci_census_cleaned.csv')\n",
        "dataframe.head()"
      ],
      "execution_count": 4,
      "outputs": [
        {
          "output_type": "execute_result",
          "data": {
            "text/html": [
              "<div>\n",
              "<style scoped>\n",
              "    .dataframe tbody tr th:only-of-type {\n",
              "        vertical-align: middle;\n",
              "    }\n",
              "\n",
              "    .dataframe tbody tr th {\n",
              "        vertical-align: top;\n",
              "    }\n",
              "\n",
              "    .dataframe thead th {\n",
              "        text-align: right;\n",
              "    }\n",
              "</style>\n",
              "<table border=\"1\" class=\"dataframe\">\n",
              "  <thead>\n",
              "    <tr style=\"text-align: right;\">\n",
              "      <th></th>\n",
              "      <th>age</th>\n",
              "      <th>workclass</th>\n",
              "      <th>education</th>\n",
              "      <th>education_num</th>\n",
              "      <th>marital_status</th>\n",
              "      <th>occupation</th>\n",
              "      <th>relationship</th>\n",
              "      <th>race</th>\n",
              "      <th>gender</th>\n",
              "      <th>capital_gain</th>\n",
              "      <th>capital_loss</th>\n",
              "      <th>hours_per_week</th>\n",
              "      <th>native_country</th>\n",
              "      <th>income_bracket</th>\n",
              "    </tr>\n",
              "  </thead>\n",
              "  <tbody>\n",
              "    <tr>\n",
              "      <th>0</th>\n",
              "      <td>39</td>\n",
              "      <td>State-gov</td>\n",
              "      <td>Bachelors</td>\n",
              "      <td>13</td>\n",
              "      <td>Never-married</td>\n",
              "      <td>Adm-clerical</td>\n",
              "      <td>Not-in-family</td>\n",
              "      <td>White</td>\n",
              "      <td>Male</td>\n",
              "      <td>2174</td>\n",
              "      <td>0</td>\n",
              "      <td>40</td>\n",
              "      <td>United-States</td>\n",
              "      <td>&lt;=50K</td>\n",
              "    </tr>\n",
              "    <tr>\n",
              "      <th>1</th>\n",
              "      <td>50</td>\n",
              "      <td>Self-emp-not-inc</td>\n",
              "      <td>Bachelors</td>\n",
              "      <td>13</td>\n",
              "      <td>Married-civ-spouse</td>\n",
              "      <td>Exec-managerial</td>\n",
              "      <td>Husband</td>\n",
              "      <td>White</td>\n",
              "      <td>Male</td>\n",
              "      <td>0</td>\n",
              "      <td>0</td>\n",
              "      <td>13</td>\n",
              "      <td>United-States</td>\n",
              "      <td>&lt;=50K</td>\n",
              "    </tr>\n",
              "    <tr>\n",
              "      <th>2</th>\n",
              "      <td>38</td>\n",
              "      <td>Private</td>\n",
              "      <td>HS-grad</td>\n",
              "      <td>9</td>\n",
              "      <td>Divorced</td>\n",
              "      <td>Handlers-cleaners</td>\n",
              "      <td>Not-in-family</td>\n",
              "      <td>White</td>\n",
              "      <td>Male</td>\n",
              "      <td>0</td>\n",
              "      <td>0</td>\n",
              "      <td>40</td>\n",
              "      <td>United-States</td>\n",
              "      <td>&lt;=50K</td>\n",
              "    </tr>\n",
              "    <tr>\n",
              "      <th>3</th>\n",
              "      <td>53</td>\n",
              "      <td>Private</td>\n",
              "      <td>11th</td>\n",
              "      <td>7</td>\n",
              "      <td>Married-civ-spouse</td>\n",
              "      <td>Handlers-cleaners</td>\n",
              "      <td>Husband</td>\n",
              "      <td>Black</td>\n",
              "      <td>Male</td>\n",
              "      <td>0</td>\n",
              "      <td>0</td>\n",
              "      <td>40</td>\n",
              "      <td>United-States</td>\n",
              "      <td>&lt;=50K</td>\n",
              "    </tr>\n",
              "    <tr>\n",
              "      <th>4</th>\n",
              "      <td>28</td>\n",
              "      <td>Private</td>\n",
              "      <td>Bachelors</td>\n",
              "      <td>13</td>\n",
              "      <td>Married-civ-spouse</td>\n",
              "      <td>Prof-specialty</td>\n",
              "      <td>Wife</td>\n",
              "      <td>Black</td>\n",
              "      <td>Female</td>\n",
              "      <td>0</td>\n",
              "      <td>0</td>\n",
              "      <td>40</td>\n",
              "      <td>Cuba</td>\n",
              "      <td>&lt;=50K</td>\n",
              "    </tr>\n",
              "  </tbody>\n",
              "</table>\n",
              "</div>"
            ],
            "text/plain": [
              "   age         workclass  education  education_num      marital_status  \\\n",
              "0   39         State-gov  Bachelors             13       Never-married   \n",
              "1   50  Self-emp-not-inc  Bachelors             13  Married-civ-spouse   \n",
              "2   38           Private    HS-grad              9            Divorced   \n",
              "3   53           Private       11th              7  Married-civ-spouse   \n",
              "4   28           Private  Bachelors             13  Married-civ-spouse   \n",
              "\n",
              "          occupation   relationship   race  gender  capital_gain  \\\n",
              "0       Adm-clerical  Not-in-family  White    Male          2174   \n",
              "1    Exec-managerial        Husband  White    Male             0   \n",
              "2  Handlers-cleaners  Not-in-family  White    Male             0   \n",
              "3  Handlers-cleaners        Husband  Black    Male             0   \n",
              "4     Prof-specialty           Wife  Black  Female             0   \n",
              "\n",
              "   capital_loss  hours_per_week native_country income_bracket  \n",
              "0             0              40  United-States          <=50K  \n",
              "1             0              13  United-States          <=50K  \n",
              "2             0              40  United-States          <=50K  \n",
              "3             0              40  United-States          <=50K  \n",
              "4             0              40           Cuba          <=50K  "
            ]
          },
          "metadata": {
            "tags": []
          },
          "execution_count": 4
        }
      ]
    },
    {
      "metadata": {
        "id": "Qcd_4EStsi-3",
        "colab_type": "text"
      },
      "cell_type": "markdown",
      "source": [
        "The last column in the above output (income_bracket) is the label we will predict. Notice it is represented as a string. We will use Pandas to convert it to a number (0.0 or 1.0). This datatype will be needed later by our classifier."
      ]
    },
    {
      "metadata": {
        "id": "Juh_jPBxLCIG",
        "colab_type": "code",
        "colab": {
          "base_uri": "https://localhost:8080/",
          "height": 292
        },
        "outputId": "9ae73058-cf34-4dfe-8b13-13105f3466a2"
      },
      "cell_type": "code",
      "source": [
        "dataframe['income_bracket'] = dataframe['income_bracket'].map(lambda x: x == '>50K')\n",
        "dataframe['income_bracket'] = dataframe['income_bracket'].astype(float)\n",
        "dataframe.head()"
      ],
      "execution_count": 5,
      "outputs": [
        {
          "output_type": "execute_result",
          "data": {
            "text/html": [
              "<div>\n",
              "<style scoped>\n",
              "    .dataframe tbody tr th:only-of-type {\n",
              "        vertical-align: middle;\n",
              "    }\n",
              "\n",
              "    .dataframe tbody tr th {\n",
              "        vertical-align: top;\n",
              "    }\n",
              "\n",
              "    .dataframe thead th {\n",
              "        text-align: right;\n",
              "    }\n",
              "</style>\n",
              "<table border=\"1\" class=\"dataframe\">\n",
              "  <thead>\n",
              "    <tr style=\"text-align: right;\">\n",
              "      <th></th>\n",
              "      <th>age</th>\n",
              "      <th>workclass</th>\n",
              "      <th>education</th>\n",
              "      <th>education_num</th>\n",
              "      <th>marital_status</th>\n",
              "      <th>occupation</th>\n",
              "      <th>relationship</th>\n",
              "      <th>race</th>\n",
              "      <th>gender</th>\n",
              "      <th>capital_gain</th>\n",
              "      <th>capital_loss</th>\n",
              "      <th>hours_per_week</th>\n",
              "      <th>native_country</th>\n",
              "      <th>income_bracket</th>\n",
              "    </tr>\n",
              "  </thead>\n",
              "  <tbody>\n",
              "    <tr>\n",
              "      <th>0</th>\n",
              "      <td>39</td>\n",
              "      <td>State-gov</td>\n",
              "      <td>Bachelors</td>\n",
              "      <td>13</td>\n",
              "      <td>Never-married</td>\n",
              "      <td>Adm-clerical</td>\n",
              "      <td>Not-in-family</td>\n",
              "      <td>White</td>\n",
              "      <td>Male</td>\n",
              "      <td>2174</td>\n",
              "      <td>0</td>\n",
              "      <td>40</td>\n",
              "      <td>United-States</td>\n",
              "      <td>0.0</td>\n",
              "    </tr>\n",
              "    <tr>\n",
              "      <th>1</th>\n",
              "      <td>50</td>\n",
              "      <td>Self-emp-not-inc</td>\n",
              "      <td>Bachelors</td>\n",
              "      <td>13</td>\n",
              "      <td>Married-civ-spouse</td>\n",
              "      <td>Exec-managerial</td>\n",
              "      <td>Husband</td>\n",
              "      <td>White</td>\n",
              "      <td>Male</td>\n",
              "      <td>0</td>\n",
              "      <td>0</td>\n",
              "      <td>13</td>\n",
              "      <td>United-States</td>\n",
              "      <td>0.0</td>\n",
              "    </tr>\n",
              "    <tr>\n",
              "      <th>2</th>\n",
              "      <td>38</td>\n",
              "      <td>Private</td>\n",
              "      <td>HS-grad</td>\n",
              "      <td>9</td>\n",
              "      <td>Divorced</td>\n",
              "      <td>Handlers-cleaners</td>\n",
              "      <td>Not-in-family</td>\n",
              "      <td>White</td>\n",
              "      <td>Male</td>\n",
              "      <td>0</td>\n",
              "      <td>0</td>\n",
              "      <td>40</td>\n",
              "      <td>United-States</td>\n",
              "      <td>0.0</td>\n",
              "    </tr>\n",
              "    <tr>\n",
              "      <th>3</th>\n",
              "      <td>53</td>\n",
              "      <td>Private</td>\n",
              "      <td>11th</td>\n",
              "      <td>7</td>\n",
              "      <td>Married-civ-spouse</td>\n",
              "      <td>Handlers-cleaners</td>\n",
              "      <td>Husband</td>\n",
              "      <td>Black</td>\n",
              "      <td>Male</td>\n",
              "      <td>0</td>\n",
              "      <td>0</td>\n",
              "      <td>40</td>\n",
              "      <td>United-States</td>\n",
              "      <td>0.0</td>\n",
              "    </tr>\n",
              "    <tr>\n",
              "      <th>4</th>\n",
              "      <td>28</td>\n",
              "      <td>Private</td>\n",
              "      <td>Bachelors</td>\n",
              "      <td>13</td>\n",
              "      <td>Married-civ-spouse</td>\n",
              "      <td>Prof-specialty</td>\n",
              "      <td>Wife</td>\n",
              "      <td>Black</td>\n",
              "      <td>Female</td>\n",
              "      <td>0</td>\n",
              "      <td>0</td>\n",
              "      <td>40</td>\n",
              "      <td>Cuba</td>\n",
              "      <td>0.0</td>\n",
              "    </tr>\n",
              "  </tbody>\n",
              "</table>\n",
              "</div>"
            ],
            "text/plain": [
              "   age         workclass  education  education_num      marital_status  \\\n",
              "0   39         State-gov  Bachelors             13       Never-married   \n",
              "1   50  Self-emp-not-inc  Bachelors             13  Married-civ-spouse   \n",
              "2   38           Private    HS-grad              9            Divorced   \n",
              "3   53           Private       11th              7  Married-civ-spouse   \n",
              "4   28           Private  Bachelors             13  Married-civ-spouse   \n",
              "\n",
              "          occupation   relationship   race  gender  capital_gain  \\\n",
              "0       Adm-clerical  Not-in-family  White    Male          2174   \n",
              "1    Exec-managerial        Husband  White    Male             0   \n",
              "2  Handlers-cleaners  Not-in-family  White    Male             0   \n",
              "3  Handlers-cleaners        Husband  Black    Male             0   \n",
              "4     Prof-specialty           Wife  Black  Female             0   \n",
              "\n",
              "   capital_loss  hours_per_week native_country  income_bracket  \n",
              "0             0              40  United-States             0.0  \n",
              "1             0              13  United-States             0.0  \n",
              "2             0              40  United-States             0.0  \n",
              "3             0              40  United-States             0.0  \n",
              "4             0              40           Cuba             0.0  "
            ]
          },
          "metadata": {
            "tags": []
          },
          "execution_count": 5
        }
      ]
    },
    {
      "metadata": {
        "id": "1WAE31yts7dy",
        "colab_type": "text"
      },
      "cell_type": "markdown",
      "source": [
        "## Split the dataset into train, validation, and test\n",
        "\n",
        "The dataset we downloaded was a single CSV file. We will split this first into train and test sets, and next into train and validation sets."
      ]
    },
    {
      "metadata": {
        "id": "eLdCcCBxqjW5",
        "colab_type": "code",
        "outputId": "32c08e7e-b171-4da1-add4-b8ec62477f11",
        "colab": {
          "base_uri": "https://localhost:8080/",
          "height": 68
        }
      },
      "cell_type": "code",
      "source": [
        "train, test = train_test_split(dataframe, test_size=0.1)\n",
        "train, val = train_test_split(train, test_size=0.1)\n",
        "print(len(train), 'train examples')\n",
        "print(len(val), 'validation examples')\n",
        "print(len(test), 'test examples')"
      ],
      "execution_count": 6,
      "outputs": [
        {
          "output_type": "stream",
          "text": [
            "39561 train examples\n",
            "4396 validation examples\n",
            "4885 test examples\n"
          ],
          "name": "stdout"
        }
      ]
    },
    {
      "metadata": {
        "id": "cqBQ2UMgtGzB",
        "colab_type": "text"
      },
      "cell_type": "markdown",
      "source": [
        "## Create an input pipeline using tf.data\n",
        "\n",
        "Next, we will wrap our Pandas dataframes with [tf.data](https://www.tensorflow.org/guide/datasets) datasets. These enable us to use feature columns as a bridge to map from the columns in the dataframe, to features for our model."
      ]
    },
    {
      "metadata": {
        "id": "KJC7VFqMra25",
        "colab_type": "code",
        "colab": {}
      },
      "cell_type": "code",
      "source": [
        "# Convert a Pandas dataframe \n",
        "def df_to_dataset(dataframe, shuffle=True, batch_size=32):\n",
        "  dataframe = dataframe.copy()\n",
        "  labels = dataframe.pop('income_bracket')\n",
        "  ds = tf.data.Dataset.from_tensor_slices((dict(dataframe), labels))\n",
        "  if shuffle:\n",
        "    ds = ds.shuffle(buffer_size=len(dataframe))\n",
        "  ds = ds.repeat().batch(batch_size)\n",
        "  return ds"
      ],
      "execution_count": 0,
      "outputs": []
    },
    {
      "metadata": {
        "id": "wAoAUl9aC_cL",
        "colab_type": "text"
      },
      "cell_type": "markdown",
      "source": [
        "Create our datasets. We'll use a tiny batch size so it's easier to see the output of each feature column, when we demo them below."
      ]
    },
    {
      "metadata": {
        "id": "JOPc6s-ss4vQ",
        "colab_type": "code",
        "colab": {}
      },
      "cell_type": "code",
      "source": [
        "batch_size = 5\n",
        "train_ds = df_to_dataset(train, batch_size=batch_size)\n",
        "val_ds = df_to_dataset(val, batch_size=batch_size)\n",
        "test_ds = df_to_dataset(test, shuffle=False, batch_size=batch_size)"
      ],
      "execution_count": 0,
      "outputs": []
    },
    {
      "metadata": {
        "id": "P199Q1o3xty_",
        "colab_type": "text"
      },
      "cell_type": "markdown",
      "source": [
        "Let's take a look at what the train dataset returns."
      ]
    },
    {
      "metadata": {
        "id": "ERAdwFoDtxuA",
        "colab_type": "code",
        "outputId": "1ee2c1db-299d-413a-e3e2-6c37ee3ab4b2",
        "colab": {
          "base_uri": "https://localhost:8080/",
          "height": 88
        }
      },
      "cell_type": "code",
      "source": [
        "for feature_batch, label_batch in train_ds.take(1):\n",
        "  print('All features:', list(feature_batch.keys()))\n",
        "  print('A batch of ages:', feature_batch['age'])\n",
        "  print('A batch of labels:', label_batch )"
      ],
      "execution_count": 9,
      "outputs": [
        {
          "output_type": "stream",
          "text": [
            "All features: ['age', 'workclass', 'education', 'education_num', 'marital_status', 'occupation', 'relationship', 'race', 'gender', 'capital_gain', 'capital_loss', 'hours_per_week', 'native_country']\n",
            "A batch of ages: tf.Tensor([42 24 29 37 53], shape=(5,), dtype=int32)\n",
            "A batch of labels: tf.Tensor([0. 1. 1. 0. 1.], shape=(5,), dtype=float64)\n"
          ],
          "name": "stdout"
        }
      ]
    },
    {
      "metadata": {
        "id": "Hx3ZRpYZDLky",
        "colab_type": "text"
      },
      "cell_type": "markdown",
      "source": [
        "Finally, we'll retrieve a single batch of data from the training dataset, and keep this in memory. We'll use this batch to demo a few different types of feature columns below."
      ]
    },
    {
      "metadata": {
        "id": "OPjVMPOsDMOY",
        "colab_type": "code",
        "colab": {}
      },
      "cell_type": "code",
      "source": [
        "# A batch of data\n",
        "# We'll use this to show the output of various\n",
        "# feature columns.\n",
        "example_batch = list(train_ds.take(1))[0][0]"
      ],
      "execution_count": 0,
      "outputs": []
    },
    {
      "metadata": {
        "id": "NERYfmDwDTe4",
        "colab_type": "text"
      },
      "cell_type": "markdown",
      "source": [
        "## Create feature columns\n",
        "Next, we'll create a few different types of feature columns, and demonstrate what they return when called on an example batch of data, using the helper method below."
      ]
    },
    {
      "metadata": {
        "id": "_IGG-Oaj5P6K",
        "colab_type": "code",
        "colab": {}
      },
      "cell_type": "code",
      "source": [
        "# Call a feature column on a batch of data and show the result\n",
        "def demo(feature_column):\n",
        "  feature_layer = fc.FeatureLayer([feature_column])\n",
        "  print(feature_layer(example_batch).numpy())"
      ],
      "execution_count": 0,
      "outputs": []
    },
    {
      "metadata": {
        "id": "EafEUjq51xCy",
        "colab_type": "text"
      },
      "cell_type": "markdown",
      "source": [
        "### Numeric features\n",
        "First, we'll use a plain numeric feature. TODO: explain"
      ]
    },
    {
      "metadata": {
        "id": "TqHhImh4y2Z_",
        "colab_type": "code",
        "outputId": "38a0a2f4-ff89-4297-d822-2e7dc9145a15",
        "colab": {
          "base_uri": "https://localhost:8080/",
          "height": 102
        }
      },
      "cell_type": "code",
      "source": [
        "age = fc.numeric_column(\"age\")\n",
        "demo(age)"
      ],
      "execution_count": 12,
      "outputs": [
        {
          "output_type": "stream",
          "text": [
            "[[44.]\n",
            " [20.]\n",
            " [51.]\n",
            " [37.]\n",
            " [43.]]\n"
          ],
          "name": "stdout"
        }
      ]
    },
    {
      "metadata": {
        "id": "3muBoWau3G0k",
        "colab_type": "text"
      },
      "cell_type": "markdown",
      "source": [
        "### Bucketized features\n",
        "TODO: explain"
      ]
    },
    {
      "metadata": {
        "id": "H2IZKXx63Jkj",
        "colab_type": "code",
        "outputId": "11e4c1cc-7b7f-4b2b-a99b-4b9c40b6d579",
        "colab": {
          "base_uri": "https://localhost:8080/",
          "height": 102
        }
      },
      "cell_type": "code",
      "source": [
        "age_buckets = fc.bucketized_column(age, boundaries=[18, 25, 30, 35, 40, 45, 50, 55, 60, 65])\n",
        "demo(age_buckets)"
      ],
      "execution_count": 13,
      "outputs": [
        {
          "output_type": "stream",
          "text": [
            "[[0. 0. 0. 0. 0. 1. 0. 0. 0. 0. 0.]\n",
            " [0. 1. 0. 0. 0. 0. 0. 0. 0. 0. 0.]\n",
            " [0. 0. 0. 0. 0. 0. 0. 1. 0. 0. 0.]\n",
            " [0. 0. 0. 0. 1. 0. 0. 0. 0. 0. 0.]\n",
            " [0. 0. 0. 0. 0. 1. 0. 0. 0. 0. 0.]]\n"
          ],
          "name": "stdout"
        }
      ]
    },
    {
      "metadata": {
        "id": "76ixWY6i127s",
        "colab_type": "text"
      },
      "cell_type": "markdown",
      "source": [
        "### One-hot encodings for categorical features\n",
        "TODO: explain"
      ]
    },
    {
      "metadata": {
        "id": "2FeTs2_-zOav",
        "colab_type": "code",
        "colab": {}
      },
      "cell_type": "code",
      "source": [
        "education = fc.categorical_column_with_vocabulary_list(\n",
        "      'education', [\n",
        "          'Bachelors', 'HS-grad', '11th', 'Masters', '9th', 'Some-college',\n",
        "          'Assoc-acdm', 'Assoc-voc', '7th-8th', 'Doctorate', 'Prof-school',\n",
        "          '5th-6th', '10th', '1st-4th', 'Preschool', '12th'])"
      ],
      "execution_count": 0,
      "outputs": []
    },
    {
      "metadata": {
        "id": "jZc20oq11bwv",
        "colab_type": "code",
        "outputId": "6991b51a-fe36-49dd-96ce-a6109f9ea378",
        "colab": {
          "base_uri": "https://localhost:8080/",
          "height": 173
        }
      },
      "cell_type": "code",
      "source": [
        "# This creates a one-hot representation\n",
        "# We will reuse the education feature above later in other contexts\n",
        "education_one_hot = fc.indicator_column(education)\n",
        "demo(education_one_hot)"
      ],
      "execution_count": 15,
      "outputs": [
        {
          "output_type": "stream",
          "text": [
            "WARNING:tensorflow:From /usr/local/lib/python3.6/dist-packages/tensorflow/python/ops/sparse_ops.py:1165: sparse_to_dense (from tensorflow.python.ops.sparse_ops) is deprecated and will be removed in a future version.\n",
            "Instructions for updating:\n",
            "Create a `tf.sparse.SparseTensor` and use `tf.sparse.to_dense` instead.\n",
            "[[0. 0. 0. 1. 0. 0. 0. 0. 0. 0. 0. 0. 0. 0. 0. 0.]\n",
            " [0. 1. 0. 0. 0. 0. 0. 0. 0. 0. 0. 0. 0. 0. 0. 0.]\n",
            " [0. 1. 0. 0. 0. 0. 0. 0. 0. 0. 0. 0. 0. 0. 0. 0.]\n",
            " [0. 1. 0. 0. 0. 0. 0. 0. 0. 0. 0. 0. 0. 0. 0. 0.]\n",
            " [1. 0. 0. 0. 0. 0. 0. 0. 0. 0. 0. 0. 0. 0. 0. 0.]]\n"
          ],
          "name": "stdout"
        }
      ]
    },
    {
      "metadata": {
        "id": "skB4NjpD2TQH",
        "colab_type": "text"
      },
      "cell_type": "markdown",
      "source": [
        "### Embeddings for categorical features\n",
        "TODO: explain"
      ]
    },
    {
      "metadata": {
        "id": "WP0pPj--2D_m",
        "colab_type": "code",
        "outputId": "7d3c8d74-55b7-4b4f-d9fe-510701158307",
        "colab": {
          "base_uri": "https://localhost:8080/",
          "height": 187
        }
      },
      "cell_type": "code",
      "source": [
        "education_embedding = fc.embedding_column(education, dimension=8)\n",
        "demo(education_embedding)"
      ],
      "execution_count": 16,
      "outputs": [
        {
          "output_type": "stream",
          "text": [
            "[[ 0.17029224  0.38602605  0.46251673 -0.01845278 -0.03972173  0.32146436\n",
            "   0.34972754  0.14873436]\n",
            " [ 0.5718432  -0.3138958  -0.13732137 -0.08816642  0.55092806 -0.14656846\n",
            "   0.14499006 -0.11601342]\n",
            " [ 0.5718432  -0.3138958  -0.13732137 -0.08816642  0.55092806 -0.14656846\n",
            "   0.14499006 -0.11601342]\n",
            " [ 0.5718432  -0.3138958  -0.13732137 -0.08816642  0.55092806 -0.14656846\n",
            "   0.14499006 -0.11601342]\n",
            " [ 0.41000214 -0.30275458  0.4371216  -0.20242569 -0.5092193   0.18223254\n",
            "  -0.00375817 -0.1666437 ]]\n"
          ],
          "name": "stdout"
        }
      ]
    },
    {
      "metadata": {
        "id": "K4CyqtjX4jGy",
        "colab_type": "text"
      },
      "cell_type": "markdown",
      "source": [
        "### Hashed feature columns\n",
        "TODO: explain"
      ]
    },
    {
      "metadata": {
        "id": "cXYveFiF4lcT",
        "colab_type": "code",
        "outputId": "c77816d7-ed68-4d71-f66a-b6b5509e1ab4",
        "colab": {
          "base_uri": "https://localhost:8080/",
          "height": 102
        }
      },
      "cell_type": "code",
      "source": [
        "occupation = fc.categorical_column_with_hash_bucket(\n",
        "      'occupation', hash_bucket_size=1000)\n",
        "demo(fc.indicator_column(occupation))"
      ],
      "execution_count": 17,
      "outputs": [
        {
          "output_type": "stream",
          "text": [
            "[[0. 0. 0. ... 0. 0. 0.]\n",
            " [0. 0. 0. ... 0. 0. 0.]\n",
            " [0. 0. 0. ... 0. 0. 0.]\n",
            " [0. 0. 0. ... 0. 0. 0.]\n",
            " [0. 0. 0. ... 0. 0. 0.]]\n"
          ],
          "name": "stdout"
        }
      ]
    },
    {
      "metadata": {
        "id": "mQd-9IwP3igY",
        "colab_type": "text"
      },
      "cell_type": "markdown",
      "source": [
        "### Crossed feature columns\n",
        "TODO: explain"
      ]
    },
    {
      "metadata": {
        "id": "cNkxIMAI2peu",
        "colab_type": "code",
        "outputId": "31169e45-b921-41f1-8bec-2a56c63b30c7",
        "colab": {
          "base_uri": "https://localhost:8080/",
          "height": 102
        }
      },
      "cell_type": "code",
      "source": [
        "crossed_feature = fc.crossed_column([age_buckets, education], hash_bucket_size=1000)\n",
        "demo(fc.indicator_column(crossed_feature))"
      ],
      "execution_count": 18,
      "outputs": [
        {
          "output_type": "stream",
          "text": [
            "[[0. 0. 0. ... 0. 0. 0.]\n",
            " [0. 0. 0. ... 0. 0. 0.]\n",
            " [0. 0. 0. ... 0. 0. 0.]\n",
            " [0. 0. 0. ... 0. 0. 0.]\n",
            " [0. 0. 0. ... 0. 0. 0.]]\n"
          ],
          "name": "stdout"
        }
      ]
    },
    {
      "metadata": {
        "id": "sYxdamCs5pNJ",
        "colab_type": "text"
      },
      "cell_type": "markdown",
      "source": [
        "## Train a model\n",
        "Now that we've seen how to use a few different types of feature columns, let's use a few to train a model. We've chosen these somewhat arbitrarily, if your aim is to build an accurate model on your dataset, think these through carefully. The most important thing you can do is choose the right features for your domain. TODO."
      ]
    },
    {
      "metadata": {
        "id": "cqsDZ_td49X2",
        "colab_type": "code",
        "colab": {}
      },
      "cell_type": "code",
      "source": [
        "age = fc.numeric_column('age')\n",
        "education_num = fc.numeric_column('education_num')\n",
        "capital_gain = fc.numeric_column('capital_gain')\n",
        "capital_loss = fc.numeric_column('capital_loss')\n",
        "hours_per_week = fc.numeric_column('hours_per_week')"
      ],
      "execution_count": 0,
      "outputs": []
    },
    {
      "metadata": {
        "id": "brRR3HMD6Q6M",
        "colab_type": "code",
        "colab": {}
      },
      "cell_type": "code",
      "source": [
        "education = fc.categorical_column_with_vocabulary_list(\n",
        "    'education', [\n",
        "        'Bachelors', 'HS-grad', '11th', 'Masters', '9th', 'Some-college',\n",
        "        'Assoc-acdm', 'Assoc-voc', '7th-8th', 'Doctorate', 'Prof-school',\n",
        "        '5th-6th', '10th', '1st-4th', 'Preschool', '12th'])\n",
        "\n",
        "marital_status = fc.categorical_column_with_vocabulary_list(\n",
        "    'marital_status', [\n",
        "        'Married-civ-spouse', 'Divorced', 'Married-spouse-absent',\n",
        "        'Never-married', 'Separated', 'Married-AF-spouse', 'Widowed'])\n",
        "\n",
        "relationship = fc.categorical_column_with_vocabulary_list(\n",
        "    'relationship', [\n",
        "        'Husband', 'Not-in-family', 'Wife', 'Own-child', 'Unmarried',\n",
        "        'Other-relative'])\n",
        "\n",
        "workclass = fc.categorical_column_with_vocabulary_list(\n",
        "    'workclass', [\n",
        "        'Self-emp-not-inc', 'Private', 'State-gov', 'Federal-gov',\n",
        "        'Local-gov', '?', 'Self-emp-inc', 'Without-pay', 'Never-worked'])"
      ],
      "execution_count": 0,
      "outputs": []
    },
    {
      "metadata": {
        "id": "9v59JZEu6eH8",
        "colab_type": "code",
        "colab": {}
      },
      "cell_type": "code",
      "source": [
        "occupation = fc.categorical_column_with_hash_bucket(\n",
        "    'occupation', hash_bucket_size=1000)"
      ],
      "execution_count": 0,
      "outputs": []
    },
    {
      "metadata": {
        "id": "yh427Z4R6ji0",
        "colab_type": "code",
        "colab": {}
      },
      "cell_type": "code",
      "source": [
        "age_buckets = fc.bucketized_column(\n",
        "    age, boundaries=[18, 25, 30, 35, 40, 45, 50, 55, 60, 65])"
      ],
      "execution_count": 0,
      "outputs": []
    },
    {
      "metadata": {
        "id": "tQW3Xfkg6mGN",
        "colab_type": "code",
        "colab": {}
      },
      "cell_type": "code",
      "source": [
        "education_occuputation = fc.crossed_column(['education', 'occupation'], \n",
        "                              hash_bucket_size=1000)\n",
        "\n",
        "age_education_occuptation = fc.crossed_column([age_buckets, 'education', 'occupation'],\n",
        "                              hash_bucket_size=1000)"
      ],
      "execution_count": 0,
      "outputs": []
    },
    {
      "metadata": {
        "id": "mpiOYN_S7GRN",
        "colab_type": "code",
        "colab": {}
      },
      "cell_type": "code",
      "source": [
        "all_columns = [\n",
        "    age,\n",
        "    education_num,\n",
        "    capital_gain,\n",
        "    capital_loss,\n",
        "    hours_per_week,\n",
        "    fc.indicator_column(workclass),\n",
        "    fc.indicator_column(education),\n",
        "    fc.indicator_column(marital_status),\n",
        "    fc.indicator_column(relationship),\n",
        "    fc.embedding_column(education_occuputation, dimension=8),\n",
        "    fc.embedding_column(age_education_occuptation, dimension=8),\n",
        "    fc.embedding_column(occupation, dimension=8),\n",
        "]"
      ],
      "execution_count": 0,
      "outputs": []
    },
    {
      "metadata": {
        "id": "-QIk6IuX--a3",
        "colab_type": "code",
        "colab": {}
      },
      "cell_type": "code",
      "source": [
        "batch_size = 256\n",
        "train_ds = df_to_dataset(train, batch_size=batch_size)\n",
        "val_ds = df_to_dataset(val, batch_size=batch_size)\n",
        "test_ds = df_to_dataset(test, batch_size=batch_size)"
      ],
      "execution_count": 0,
      "outputs": []
    },
    {
      "metadata": {
        "id": "g99f2JGJD81j",
        "colab_type": "text"
      },
      "cell_type": "markdown",
      "source": [
        "### Create a feature layer\n"
      ]
    },
    {
      "metadata": {
        "id": "Rixai8zN7xsr",
        "colab_type": "code",
        "colab": {}
      },
      "cell_type": "code",
      "source": [
        "feature_layer = fc.FeatureLayer(all_columns)"
      ],
      "execution_count": 0,
      "outputs": []
    },
    {
      "metadata": {
        "id": "C-jM1ucJ73v9",
        "colab_type": "code",
        "colab": {}
      },
      "cell_type": "code",
      "source": [
        "model = tf.keras.Sequential([\n",
        "  feature_layer,\n",
        "  tf.keras.layers.Dense(128, activation=tf.nn.relu),\n",
        "  tf.keras.layers.Dense(128, activation=tf.nn.relu),\n",
        "  tf.keras.layers.Dense(1, activation=tf.nn.sigmoid)\n",
        "])"
      ],
      "execution_count": 0,
      "outputs": []
    },
    {
      "metadata": {
        "id": "UFFz2b4C8isc",
        "colab_type": "code",
        "colab": {}
      },
      "cell_type": "code",
      "source": [
        "model.compile(optimizer=tf.train.AdamOptimizer(),\n",
        "              loss=tf.keras.losses.binary_crossentropy,\n",
        "              metrics=['accuracy'])"
      ],
      "execution_count": 0,
      "outputs": []
    },
    {
      "metadata": {
        "id": "LehfjaYV8i7U",
        "colab_type": "code",
        "outputId": "d3b0c18d-0380-46de-9ebe-5b424ab9af63",
        "colab": {
          "base_uri": "https://localhost:8080/",
          "height": 102
        }
      },
      "cell_type": "code",
      "source": [
        "model.fit(train_ds, \n",
        "          steps_per_epoch=len(train)//batch_size,\n",
        "          validation_data=val_ds, \n",
        "          validation_steps=len(val)//batch_size,\n",
        "          epochs=2)"
      ],
      "execution_count": 29,
      "outputs": [
        {
          "output_type": "stream",
          "text": [
            "Epoch 1/2\n",
            "154/154 [==============================] - 6s 38ms/step - loss: 1.5272 - acc: 0.7779 - val_loss: 1.4908 - val_acc: 0.7971\n",
            "Epoch 2/2\n",
            "154/154 [==============================] - 6s 38ms/step - loss: 1.4694 - acc: 0.7954 - val_loss: 1.4808 - val_acc: 0.7868\n"
          ],
          "name": "stdout"
        },
        {
          "output_type": "execute_result",
          "data": {
            "text/plain": [
              "<tensorflow.python.keras.callbacks.History at 0x7f42218b4c50>"
            ]
          },
          "metadata": {
            "tags": []
          },
          "execution_count": 29
        }
      ]
    },
    {
      "metadata": {
        "id": "PMXRoeGa_LVX",
        "colab_type": "text"
      },
      "cell_type": "markdown",
      "source": [
        "Finally, let's evaluate our model on the test data."
      ]
    },
    {
      "metadata": {
        "id": "lzdLE-G98kZU",
        "colab_type": "code",
        "outputId": "1c65b36f-e27f-4f15-f2df-5fa4383e693d",
        "colab": {
          "base_uri": "https://localhost:8080/",
          "height": 51
        }
      },
      "cell_type": "code",
      "source": [
        "loss, accuracy = model.evaluate(test_ds, steps=len(test) // batch_size)\n",
        "print(\"Accuracy\", accuracy)"
      ],
      "execution_count": 30,
      "outputs": [
        {
          "output_type": "stream",
          "text": [
            "19/19 [==============================] - 0s 23ms/step\n",
            "Accuracy 0.7915296052631579\n"
          ],
          "name": "stdout"
        }
      ]
    },
    {
      "metadata": {
        "id": "xKsmLo4jOotX",
        "colab_type": "text"
      },
      "cell_type": "markdown",
      "source": [
        "Next steps \n",
        "* TODO"
      ]
    }
  ]
}
